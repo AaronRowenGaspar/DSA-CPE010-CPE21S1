{
  "nbformat": 4,
  "nbformat_minor": 0,
  "metadata": {
    "colab": {
      "provenance": [],
      "authorship_tag": "ABX9TyMQUjb3Qx33GPETKOhKDy0R",
      "include_colab_link": true
    },
    "kernelspec": {
      "name": "python3",
      "display_name": "Python 3"
    },
    "language_info": {
      "name": "python"
    }
  },
  "cells": [
    {
      "cell_type": "markdown",
      "metadata": {
        "id": "view-in-github",
        "colab_type": "text"
      },
      "source": [
        "<a href=\"https://colab.research.google.com/github/AaronRowenGaspar/DSA-CPE010-CPE21S1/blob/main/Exercise_5_DSA.ipynb\" target=\"_parent\"><img src=\"https://colab.research.google.com/assets/colab-badge.svg\" alt=\"Open In Colab\"/></a>"
      ]
    },
    {
      "cell_type": "code",
      "execution_count": 1,
      "metadata": {
        "colab": {
          "base_uri": "https://localhost:8080/",
          "height": 36
        },
        "id": "1tWfabz1UB4N",
        "outputId": "bdcafa25-a339-4632-c65a-ffc9a6ce93bf"
      },
      "outputs": [
        {
          "output_type": "execute_result",
          "data": {
            "text/plain": [
              "'f'"
            ],
            "application/vnd.google.colaboratory.intrinsic+json": {
              "type": "string"
            }
          },
          "metadata": {},
          "execution_count": 1
        }
      ],
      "source": [
        "import array\n",
        "\n",
        "array.typecodes\n",
        "a = array.array('i', [1,2,3,4,5,6])\n",
        "b = array.array('f',[1.5,2.5,3.5,4.5,5.5,6.5])\n",
        "a.typecode\n",
        "b.typecode"
      ]
    },
    {
      "cell_type": "code",
      "source": [
        "import array\n",
        "\n",
        "a = array.array('i', [4,5,6,7])\n",
        "a.insert(1,2)\n",
        "a\n",
        "a.insert(-1,0)\n",
        "a\n",
        "a.insert(10,-1)\n",
        "a"
      ],
      "metadata": {
        "colab": {
          "base_uri": "https://localhost:8080/"
        },
        "id": "YFc8GENpUL-h",
        "outputId": "aec92560-69bf-49b2-ddcc-57f75ec5b7ad"
      },
      "execution_count": 2,
      "outputs": [
        {
          "output_type": "execute_result",
          "data": {
            "text/plain": [
              "array('i', [4, 2, 5, 6, 0, 7, -1])"
            ]
          },
          "metadata": {},
          "execution_count": 2
        }
      ]
    },
    {
      "cell_type": "code",
      "source": [
        "import array\n",
        "\n",
        "array.typecodes\n",
        "a = array.array('i', [4,5,6,7])\n",
        "a.insert(1,2)"
      ],
      "metadata": {
        "id": "JdYVyypuUPGx"
      },
      "execution_count": 3,
      "outputs": []
    },
    {
      "cell_type": "code",
      "source": [
        "class Node:\n",
        "  def __init__(self, data):\n",
        "    self.data = data\n",
        "    self.next = None\n",
        "\n",
        "class LinkedList:\n",
        "  def __init__(self):\n",
        "    self.head = None\n",
        "\n",
        "if __name__ == '__main__':\n",
        "  llist = LinkedList()\n",
        "  llist.head = Node(1)\n",
        "  second = Node(2)\n",
        "  third = Node(3)\n",
        "\n",
        "  llist.head.next = second\n",
        "  second.next = third\n",
        "\n",
        "  def printdata(self):\n",
        "    temp = self.head\n",
        "    while(temp):\n",
        "      print(temp.data)\n",
        "      temp = temp.next\n",
        "\n",
        "printdata(llist)"
      ],
      "metadata": {
        "colab": {
          "base_uri": "https://localhost:8080/"
        },
        "id": "7okCJgAIUTlJ",
        "outputId": "5ce64fa8-628c-4d02-f472-7d4f501806f6"
      },
      "execution_count": 4,
      "outputs": [
        {
          "output_type": "stream",
          "name": "stdout",
          "text": [
            "1\n",
            "2\n",
            "3\n"
          ]
        }
      ]
    },
    {
      "cell_type": "code",
      "source": [
        "#include <iostream>\n",
        "using namespace std;\n",
        "\n",
        "// Creating a node\n",
        "class node\n",
        "{\n",
        "    public:\n",
        "    int value;\n",
        "    node* next;\n",
        "};\n",
        "\n",
        "int main()\n",
        "{\n",
        "    node* head;\n",
        "    node* one = NULL;\n",
        "    node* two = NULL;\n",
        "    node* three = NULL;\n",
        "\n",
        "// allocate 3 nodes in the heap\n",
        "one = new node();\n",
        "two = new node();\n",
        "three = new node();\n",
        "\n",
        "//assign value values\n",
        "one -> value =1;\n",
        "two -> value =2;\n",
        "three -> value =3;\n",
        "\n",
        "//connect nodes\n",
        "one ->next = two;\n",
        "two ->next = three;\n",
        "three ->next = NULL;\n",
        "\n",
        "//print the linked list value\n",
        "head = one;\n",
        "while (head != NULL)\n",
        "{\n",
        "    cout << head -> value;\n",
        "    head = head -> next;\n",
        "\n",
        "}\n",
        "return 0;\n",
        "}"
      ],
      "metadata": {
        "colab": {
          "base_uri": "https://localhost:8080/",
          "height": 110
        },
        "id": "kHiFlwOgUXip",
        "outputId": "80cd1ef6-9594-4d4b-b427-71fe75a1b4fc"
      },
      "execution_count": 5,
      "outputs": [
        {
          "output_type": "error",
          "ename": "SyntaxError",
          "evalue": "invalid syntax (<ipython-input-5-4ea759666d08>, line 2)",
          "traceback": [
            "\u001b[0;36m  File \u001b[0;32m\"<ipython-input-5-4ea759666d08>\"\u001b[0;36m, line \u001b[0;32m2\u001b[0m\n\u001b[0;31m    using namespace std;\u001b[0m\n\u001b[0m          ^\u001b[0m\n\u001b[0;31mSyntaxError\u001b[0m\u001b[0;31m:\u001b[0m invalid syntax\n"
          ]
        }
      ]
    }
  ]
}