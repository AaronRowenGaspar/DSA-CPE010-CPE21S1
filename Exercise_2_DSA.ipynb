{
  "nbformat": 4,
  "nbformat_minor": 0,
  "metadata": {
    "colab": {
      "provenance": [],
      "authorship_tag": "ABX9TyO+ID1CjqwINQ+/37UTZx18",
      "include_colab_link": true
    },
    "kernelspec": {
      "name": "python3",
      "display_name": "Python 3"
    },
    "language_info": {
      "name": "python"
    }
  },
  "cells": [
    {
      "cell_type": "markdown",
      "metadata": {
        "id": "view-in-github",
        "colab_type": "text"
      },
      "source": [
        "<a href=\"https://colab.research.google.com/github/AaronRowenGaspar/DSA-CPE010-CPE21S1/blob/main/Exercise_2_DSA.ipynb\" target=\"_parent\"><img src=\"https://colab.research.google.com/assets/colab-badge.svg\" alt=\"Open In Colab\"/></a>"
      ]
    },
    {
      "cell_type": "code",
      "execution_count": 9,
      "metadata": {
        "colab": {
          "base_uri": "https://localhost:8080/"
        },
        "id": "NRQWD1fPN1ec",
        "outputId": "e8ee22d6-56e9-4eaf-c07e-15da52bb079e"
      },
      "outputs": [
        {
          "output_type": "stream",
          "name": "stdout",
          "text": [
            "-------------------------------------------\n",
            "Length value of the rectangle: 1\n",
            "Width value of the rectangle: 1\n",
            "The area of the rectangle is ----> 1.0 \n",
            "-------------------------------------------\n",
            "Base value of the triangle: 1\n",
            "Height value of the rectangle: 1\n",
            "The area of the triangle is ----> 0.5 \n",
            "-------------------------------------------\n",
            "Side value of the square: 1\n",
            "The area of the square is ----> 1.0\n",
            "-------------------------------------------\n"
          ]
        }
      ],
      "source": [
        "class shapes():\n",
        "  def Area(self):\n",
        "    pass\n",
        "\n",
        "#Rectangle\n",
        "class Rectangle(shapes):\n",
        "  def __init__(self, length, width):\n",
        "    self.length = length\n",
        "    self.width = width\n",
        "\n",
        "  def Area(self):\n",
        "    return self.length * self. width\n",
        "print(\"-------------------------------------------\")\n",
        "length = float(input(\"Length value of the rectangle: \"))\n",
        "width = float(input(\"Width value of the rectangle: \"))\n",
        "rectangle = Rectangle(length, width)\n",
        "\n",
        "print(f\"The area of the rectangle is ----> {rectangle.Area()} \")\n",
        "print(\"-------------------------------------------\")\n",
        "\n",
        "#Triangle\n",
        "class Triangle(shapes):\n",
        "  def __init__(self, base, height):\n",
        "    self.base = base\n",
        "    self.height = height\n",
        "\n",
        "  def Area(self):\n",
        "    return 1/2 * self.base * self.height\n",
        "\n",
        "base = float(input(\"Base value of the triangle: \"))\n",
        "height = float(input(\"Height value of the rectangle: \"))\n",
        "triangle = Triangle(base, height)\n",
        "\n",
        "print(f\"The area of the triangle is ----> {triangle.Area()} \")\n",
        "print(\"-------------------------------------------\")\n",
        "\n",
        "#Square\n",
        "class Square(shapes):\n",
        "  def __init__(self, side):\n",
        "    self.side = side\n",
        "\n",
        "  def Area(self):\n",
        "    return self.side ** 2\n",
        "\n",
        "side = float(input(\"Side value of the square: \"))\n",
        "square = Square(side)\n",
        "\n",
        "print(f\"The area of the square is ----> {square.Area()}\")\n",
        "print(\"-------------------------------------------\")"
      ]
    }
  ]
}