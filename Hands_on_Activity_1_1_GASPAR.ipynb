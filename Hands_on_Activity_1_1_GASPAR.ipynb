{
  "nbformat": 4,
  "nbformat_minor": 0,
  "metadata": {
    "colab": {
      "provenance": [],
      "authorship_tag": "ABX9TyPi84RV+hxNseI5JIlnyryP",
      "include_colab_link": true
    },
    "kernelspec": {
      "name": "python3",
      "display_name": "Python 3"
    },
    "language_info": {
      "name": "python"
    }
  },
  "cells": [
    {
      "cell_type": "markdown",
      "metadata": {
        "id": "view-in-github",
        "colab_type": "text"
      },
      "source": [
        "<a href=\"https://colab.research.google.com/github/AaronRowenGaspar/DSA-CPE010-CPE21S1/blob/main/Hands_on_Activity_1_1_GASPAR.ipynb\" target=\"_parent\"><img src=\"https://colab.research.google.com/assets/colab-badge.svg\" alt=\"Open In Colab\"/></a>"
      ]
    },
    {
      "cell_type": "markdown",
      "source": [
        "Design an algorithm and the corresponding flowchart for finding the sum of the numbers 2, 4, 6, 8, …, n (output: Algorithm and Flowchart):\n",
        "\n",
        "1. STAR\n",
        "2. Input n\n",
        "3. Initialize sum = 0\n",
        "4. Initialize current = 2\n",
        "\n",
        "5. While current <= n\n",
        "    5.1 sum = sum + current\n",
        "    5.2 current = current + 2\n",
        "\n",
        "6. Output sum\n",
        "7. STOP\n"
      ],
      "metadata": {
        "id": "v6MzoY4yAmr9"
      }
    },
    {
      "cell_type": "markdown",
      "source": [
        "Write an algorithm to read 100 numbers and then display the sum:\n",
        "\n",
        "1. START\n",
        "2. Input n1, n2, n3, ... n100\n",
        "3. sum = n1 + n2 + n3 + ... n100\n",
        "6. Output sum\n",
        "7. STOP\n"
      ],
      "metadata": {
        "id": "pH2L6d6_C5T1"
      }
    },
    {
      "cell_type": "markdown",
      "source": [
        "Write an algorithm to read two numbers then display the largest:\n",
        "\n",
        "1. START\n",
        "2. Input n1, n2\n",
        "3. If n1 > n2:\n",
        "      output n1\n",
        "4. Else: output n2\n",
        "5. STOP"
      ],
      "metadata": {
        "id": "apydd65MCNOm"
      }
    },
    {
      "cell_type": "markdown",
      "source": [
        "Write an algorithm to read two numbers then display the smallest:\n",
        "\n",
        "1. START\n",
        "2. Input n1, n2\n",
        "3. If n1 > n2:\n",
        "      output n2\n",
        "4. Else: output n1\n",
        "5. STOP"
      ],
      "metadata": {
        "id": "hnAVQAfpEcGu"
      }
    },
    {
      "cell_type": "markdown",
      "source": [
        "Write an algorithm to read three numbers then display the largest:\n",
        "\n",
        "1. START\n",
        "2. Input n1, n2, n3\n",
        "3. If n1 > n2 & n3:\n",
        "      output n1\n",
        "4. Else if n2 > n1 & n3: output n2\n",
        "5. Else: output n3\n",
        "6. STOP"
      ],
      "metadata": {
        "id": "7xXrjNg4Ezqt"
      }
    },
    {
      "cell_type": "markdown",
      "source": [
        "Write an algorithm to read 100 numbers then display the largest:\n",
        "\n",
        "1. START\n",
        "2. Initialize largest = -Infinity   // or any very small number\n",
        "3. For i from 1 to 100\n",
        "    a. Input number\n",
        "    b. If number > largest then\n",
        "    i.largest = number\n",
        "4. Output largest\n",
        "5. STOP"
      ],
      "metadata": {
        "id": "GLD3-3eqFd9t"
      }
    }
  ]
}