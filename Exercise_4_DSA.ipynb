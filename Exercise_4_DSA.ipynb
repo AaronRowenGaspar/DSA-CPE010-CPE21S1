{
  "nbformat": 4,
  "nbformat_minor": 0,
  "metadata": {
    "colab": {
      "provenance": [],
      "authorship_tag": "ABX9TyMvxhXM//C3gFjUh2RPunxf",
      "include_colab_link": true
    },
    "kernelspec": {
      "name": "python3",
      "display_name": "Python 3"
    },
    "language_info": {
      "name": "python"
    }
  },
  "cells": [
    {
      "cell_type": "markdown",
      "metadata": {
        "id": "view-in-github",
        "colab_type": "text"
      },
      "source": [
        "<a href=\"https://colab.research.google.com/github/AaronRowenGaspar/DSA-CPE010-CPE21S1/blob/main/Exercise_4_DSA.ipynb\" target=\"_parent\"><img src=\"https://colab.research.google.com/assets/colab-badge.svg\" alt=\"Open In Colab\"/></a>"
      ]
    },
    {
      "cell_type": "code",
      "execution_count": 45,
      "metadata": {
        "colab": {
          "base_uri": "https://localhost:8080/"
        },
        "id": "LPp9hAhButsW",
        "outputId": "5c1c8d1f-d2b3-4edd-91b3-fd109479fdc3"
      },
      "outputs": [
        {
          "output_type": "stream",
          "name": "stdout",
          "text": [
            "['god', 'tac', 'woc', 'ekans']\n"
          ]
        }
      ],
      "source": [
        "#REVERSING ALL CHARACTERS OF THE WORDS THAT ARE IN THE LIST\n",
        "def reverse_words(words):\n",
        "  reverse_words = []\n",
        "  for word in words:\n",
        "    reverse_words.append(word[::-1])\n",
        "  return reverse_words\n",
        "\n",
        "word = ['dog', 'cat', 'cow', 'snake']\n",
        "print(reverse_words(word))"
      ]
    },
    {
      "cell_type": "code",
      "source": [
        "#REVERSING ALL CHARACTERS OF THE WORDS THAT ARE IN THE LIST WITH USER INPUT\n",
        "Reverse_word = []\n",
        "x = 0\n",
        "while x != 3:\n",
        "  words = input('Enter a word: ')\n",
        "  Reverse_word.append(words[::-1])\n",
        "  x += 1\n",
        "print(Reverse_word)"
      ],
      "metadata": {
        "colab": {
          "base_uri": "https://localhost:8080/"
        },
        "id": "dlApSdmP7eqf",
        "outputId": "dec4130c-857b-45d8-99a2-e1b9b6691920"
      },
      "execution_count": 37,
      "outputs": [
        {
          "output_type": "stream",
          "name": "stdout",
          "text": [
            "Enter a word: dog\n",
            "Enter a word: cat\n",
            "Enter a word: cow\n",
            "['god', 'tac', 'woc']\n"
          ]
        }
      ]
    }
  ]
}