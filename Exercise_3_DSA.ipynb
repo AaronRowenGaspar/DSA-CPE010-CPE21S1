{
  "nbformat": 4,
  "nbformat_minor": 0,
  "metadata": {
    "colab": {
      "provenance": [],
      "authorship_tag": "ABX9TyPi0Cio8eEfwpEPUNfo4iAs",
      "include_colab_link": true
    },
    "kernelspec": {
      "name": "python3",
      "display_name": "Python 3"
    },
    "language_info": {
      "name": "python"
    }
  },
  "cells": [
    {
      "cell_type": "markdown",
      "metadata": {
        "id": "view-in-github",
        "colab_type": "text"
      },
      "source": [
        "<a href=\"https://colab.research.google.com/github/AaronRowenGaspar/DSA-CPE010-CPE21S1/blob/main/Exercise_3_DSA.ipynb\" target=\"_parent\"><img src=\"https://colab.research.google.com/assets/colab-badge.svg\" alt=\"Open In Colab\"/></a>"
      ]
    },
    {
      "cell_type": "code",
      "execution_count": null,
      "metadata": {
        "colab": {
          "base_uri": "https://localhost:8080/"
        },
        "id": "hiVe7Ms7I3LS",
        "outputId": "220e700c-f705-4936-d8fb-747af89b02b0"
      },
      "outputs": [
        {
          "output_type": "stream",
          "name": "stdout",
          "text": [
            "['snake', 'cow', 'cat', 'dog']\n"
          ]
        }
      ],
      "source": [
        "#Reverse all the elements in the array\n",
        "\n",
        "animals = ['dog', 'cat', 'cow', 'snake']\n",
        "animals.reverse()\n",
        "print(animals)"
      ]
    },
    {
      "cell_type": "code",
      "source": [
        "numbers = [1, 2, 3, 4, 5]\n",
        "numbers.reverse()\n",
        "print(numbers)"
      ],
      "metadata": {
        "id": "rhJDb_WaJd9u",
        "colab": {
          "base_uri": "https://localhost:8080/"
        },
        "outputId": "23297b0a-eb89-440f-f06b-7e76727eb39d"
      },
      "execution_count": 1,
      "outputs": [
        {
          "output_type": "stream",
          "name": "stdout",
          "text": [
            "[5, 4, 3, 2, 1]\n"
          ]
        }
      ]
    },
    {
      "cell_type": "code",
      "source": [
        "days = ['monday', 'tuesday', 'wednesday', 'thursday', 'friday', 'saturday', 'sunday']\n",
        "days.reverse()\n",
        "print(days)"
      ],
      "metadata": {
        "id": "JCjpFa_lJeXZ",
        "colab": {
          "base_uri": "https://localhost:8080/"
        },
        "outputId": "6f615050-bf5f-4975-8b8c-d33c443825e8"
      },
      "execution_count": 2,
      "outputs": [
        {
          "output_type": "stream",
          "name": "stdout",
          "text": [
            "['sunday', 'saturday', 'friday', 'thursday', 'wednesday', 'tuesday', 'monday']\n"
          ]
        }
      ]
    }
  ]
}