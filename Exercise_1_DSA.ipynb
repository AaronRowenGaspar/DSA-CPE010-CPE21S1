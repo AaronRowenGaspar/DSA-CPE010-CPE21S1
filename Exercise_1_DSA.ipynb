{
  "nbformat": 4,
  "nbformat_minor": 0,
  "metadata": {
    "colab": {
      "provenance": [],
      "authorship_tag": "ABX9TyOJniJNRGCnqPI2SRfGOiT2",
      "include_colab_link": true
    },
    "kernelspec": {
      "name": "python3",
      "display_name": "Python 3"
    },
    "language_info": {
      "name": "python"
    }
  },
  "cells": [
    {
      "cell_type": "markdown",
      "metadata": {
        "id": "view-in-github",
        "colab_type": "text"
      },
      "source": [
        "<a href=\"https://colab.research.google.com/github/AaronRowenGaspar/DSA-CPE010-CPE21S1/blob/main/Exercise_1_DSA.ipynb\" target=\"_parent\"><img src=\"https://colab.research.google.com/assets/colab-badge.svg\" alt=\"Open In Colab\"/></a>"
      ]
    },
    {
      "cell_type": "markdown",
      "source": [
        "AREA OF A RECTANGLE CALCULATOR"
      ],
      "metadata": {
        "id": "NUHCm6znFy0g"
      }
    },
    {
      "cell_type": "code",
      "execution_count": 13,
      "metadata": {
        "colab": {
          "base_uri": "https://localhost:8080/"
        },
        "id": "JTFB7o4e6EV-",
        "outputId": "f3416fed-2c79-476f-9cc7-4c431cc48029"
      },
      "outputs": [
        {
          "output_type": "stream",
          "name": "stdout",
          "text": [
            "Length value of the rectangle: 12\n",
            "------------------------------------------\n",
            "Width value of the rectangle: 4\n",
            "------------------------------------------\n",
            "The area of the rectangle is ----> 48.0 \n",
            "------------------------------------------\n"
          ]
        }
      ],
      "source": [
        "class Rectangle:\n",
        "    def __init__(self, length, width):\n",
        "        self.length = length\n",
        "        self.width = width\n",
        "\n",
        "    def area(self):\n",
        "        return self.length * self.width\n",
        "\n",
        "length = float(input(\"Length value of the rectangle: \"))\n",
        "print(\"------------------------------------------\")\n",
        "width = float(input(\"Width value of the rectangle: \"))\n",
        "\n",
        "rectangle = Rectangle(length, width)\n",
        "print(\"------------------------------------------\")\n",
        "print(f\"The area of the rectangle is ----> 1{rectangle.area()} \")\n",
        "print(\"------------------------------------------\")"
      ]
    }
  ]
}